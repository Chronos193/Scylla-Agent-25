{
 "cells": [
  {
   "cell_type": "code",
   "execution_count": 25,
   "id": "be531279",
   "metadata": {},
   "outputs": [],
   "source": [
    "#%pip install llama-index-llms-google-genai llama-index python-dotenv"
   ]
  },
  {
   "cell_type": "code",
   "execution_count": 26,
   "id": "826509d1",
   "metadata": {},
   "outputs": [],
   "source": [
    "from dotenv import load_dotenv\n",
    "import os\n",
    "from llama_index.llms.gemini import Gemini\n",
    "from llama_index.core.agent.workflow import AgentWorkflow\n",
    "\n",
    "load_dotenv()\n",
    "GEMINI_API_KEY = os.environ[\"GEMINI_API_KEY\"]"
   ]
  },
  {
   "cell_type": "code",
   "execution_count": 28,
   "id": "8bd50ad2",
   "metadata": {},
   "outputs": [],
   "source": [
    "from llama_index.llms.google_genai import GoogleGenAI\n",
    "\n",
    "llm = GoogleGenAI(\n",
    "    model=\"gemini-1.5-flash\",\n",
    "    api_key=GEMINI_API_KEY,\n",
    ")"
   ]
  },
  {
   "cell_type": "markdown",
   "id": "43cc6a5a",
   "metadata": {},
   "source": [
    "## Time Tool"
   ]
  },
  {
   "cell_type": "code",
   "execution_count": 29,
   "id": "83f40e3f",
   "metadata": {},
   "outputs": [],
   "source": [
    "from llama_index.core.tools import FunctionTool\n",
    "from llama_index.core.llms import ChatMessage\n",
    "from datetime import datetime\n",
    "def get_current_time(timezone: str) -> dict:\n",
    "    \"\"\"Get the current time\"\"\"\n",
    "    return {\n",
    "        \"time\": datetime.now().strftime(\"%Y-%m-%d %H:%M:%S\"),\n",
    "        \"timezone\": timezone,\n",
    "    }\n",
    "\n",
    "time_tool = FunctionTool.from_defaults(fn=get_current_time)"
   ]
  },
  {
   "cell_type": "code",
   "execution_count": 30,
   "id": "e0a043d0",
   "metadata": {},
   "outputs": [],
   "source": [
    "#%pip install --upgrade llama-index\n"
   ]
  },
  {
   "cell_type": "code",
   "execution_count": null,
   "id": "d359a787",
   "metadata": {},
   "outputs": [
    {
     "name": "stdout",
     "output_type": "stream",
     "text": [
      "The current time in India is 2025-06-18 12:17:56.\n",
      "\n"
     ]
    }
   ],
   "source": [
    "from llama_index.core.agent.workflow import AgentWorkflow\n",
    "# Use agent workflow directly\n",
    "workflow = AgentWorkflow.from_tools_or_functions(\n",
    "    [time_tool],\n",
    "    llm=llm,\n",
    "    system_prompt=(\"You are a helpful assistant. \"\n",
    "    \"You can call functions to get the current time in any timezone. \"\n",
    "    \"Use the 'get_current_time' function when the user asks for the current time.\")\n",
    ")\n",
    "\n",
    "response = await workflow.run(user_msg=\"What is the current time in India?\")\n",
    "print(response)\n"
   ]
  },
  {
   "cell_type": "markdown",
   "id": "69428051",
   "metadata": {},
   "source": [
    "## Basic Calculation Agent"
   ]
  },
  {
   "cell_type": "code",
   "execution_count": 40,
   "id": "ed8b4499",
   "metadata": {},
   "outputs": [],
   "source": [
    "# Defining basic tools\n",
    "def multiply(a: float, b: float) -> float:\n",
    "    \"\"\"Multiply two numbers and returns the product\"\"\"\n",
    "    return a * b\n",
    "\n",
    "def add(a: float, b: float) -> float:\n",
    "    \"\"\"Add two numbers and returns the sum\"\"\"\n",
    "    return a + b\n",
    "\n",
    "def subtract(a: float, b: float) -> float:\n",
    "    \"\"\"Subtract two numbers and returns the difference\"\"\"\n",
    "    return a - b\n"
   ]
  },
  {
   "cell_type": "code",
   "execution_count": 32,
   "id": "fc17d835",
   "metadata": {},
   "outputs": [
    {
     "name": "stdout",
     "output_type": "stream",
     "text": [
      "5 + 3 = 8, 10 - 4 = 6, and 2 * 6 = 12.\n",
      "\n"
     ]
    }
   ],
   "source": [
    "from llama_index.core.agent.workflow import AgentWorkflow\n",
    "\n",
    "# Use agent workflow directly\n",
    "workflow2 = AgentWorkflow.from_tools_or_functions(\n",
    "    [add, subtract, multiply],\n",
    "    llm=llm,\n",
    "    system_prompt=(\"You are a helpful assistant. \"\n",
    "    \"You can call functions to do arithmetic calculations. \"\n",
    "    \"Use the 'add', 'subtract', and 'multiply' functions when the user asks for arithmetic operations.\")\n",
    ")\n",
    "\n",
    "response = await workflow2.run(user_msg=\"What is 5+ 3, 10 - 4, and 2 * 6?\")\n",
    "print(response)\n"
   ]
  },
  {
   "cell_type": "markdown",
   "id": "71958dac",
   "metadata": {},
   "source": [
    "## Tavily Research API"
   ]
  },
  {
   "cell_type": "code",
   "execution_count": 37,
   "id": "b294c7d7",
   "metadata": {},
   "outputs": [],
   "source": [
    "#%pip install llama-index-tools-tavily-research"
   ]
  },
  {
   "cell_type": "code",
   "execution_count": 34,
   "id": "ec3e1d73",
   "metadata": {},
   "outputs": [],
   "source": [
    "from llama_index.tools.tavily_research import TavilyToolSpec\n",
    "import os"
   ]
  },
  {
   "cell_type": "code",
   "execution_count": 35,
   "id": "e8a4e2d6",
   "metadata": {},
   "outputs": [],
   "source": [
    "TAVILY_API_KEY = os.environ[\"TAVILY_API_KEY\"]\n",
    "tavily_tool = TavilyToolSpec(api_key=TAVILY_API_KEY)"
   ]
  },
  {
   "cell_type": "code",
   "execution_count": 39,
   "id": "2e328939",
   "metadata": {},
   "outputs": [
    {
     "name": "stdout",
     "output_type": "stream",
     "text": [
      "The capital of France is Paris. The current time in Paris is 2025-06-18 12:19:20.\n",
      "\n"
     ]
    }
   ],
   "source": [
    "workflow3 = AgentWorkflow.from_tools_or_functions(\n",
    "    tavily_tool.to_tool_list() + [time_tool],\n",
    "    llm=llm,\n",
    "    system_prompt=(\"You're a helpful assistant that can search the web for information.\"\n",
    "                   \"You are a helpful assistant. \"\n",
    "                    \"You can call functions to get the current time in any timezone. \"\n",
    "                    \"Use the 'get_current_time' function when the user asks for the current time.\"\n",
    "                    \"You can also use the Tavily tool to search for information online.\")\n",
    ")\n",
    "\n",
    "response = await workflow3.run(user_msg=\"What is the capital of France? What is the current time there?\")\n",
    "print(response)"
   ]
  }
 ],
 "metadata": {
  "kernelspec": {
   "display_name": ".venv",
   "language": "python",
   "name": "python3"
  },
  "language_info": {
   "codemirror_mode": {
    "name": "ipython",
    "version": 3
   },
   "file_extension": ".py",
   "mimetype": "text/x-python",
   "name": "python",
   "nbconvert_exporter": "python",
   "pygments_lexer": "ipython3",
   "version": "3.12.5"
  }
 },
 "nbformat": 4,
 "nbformat_minor": 5
}
