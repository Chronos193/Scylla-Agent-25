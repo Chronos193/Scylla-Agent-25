{
 "cells": [
  {
   "cell_type": "markdown",
   "id": "640fc0d6",
   "metadata": {},
   "source": [
    "# Basic RAG using Llama-Index"
   ]
  },
  {
   "cell_type": "markdown",
   "id": "55b2bd07",
   "metadata": {},
   "source": [
    "Tutorial source used: \n",
    "- https://medium.com/@kofsitho/basic-tutorial-rag-with-llama-index-8927a5716dd1\n",
    "- https://docs.llamaindex.ai/en/stable/understanding/loading/loading/"
   ]
  },
  {
   "cell_type": "markdown",
   "id": "4a9539e0",
   "metadata": {},
   "source": [
    "## Loading Document"
   ]
  },
  {
   "cell_type": "code",
   "execution_count": 3,
   "id": "613cfe66",
   "metadata": {},
   "outputs": [],
   "source": [
    "#%pip install nbconvert"
   ]
  },
  {
   "cell_type": "code",
   "execution_count": 9,
   "id": "a1bfc117",
   "metadata": {},
   "outputs": [],
   "source": [
    "from llama_index.core import SimpleDirectoryReader\n",
    "\n",
    "documents = SimpleDirectoryReader(\"./data\").load_data()"
   ]
  },
  {
   "cell_type": "markdown",
   "id": "43b80148",
   "metadata": {},
   "source": [
    "## Loaded Document to VectorStore (Text to Vector)"
   ]
  },
  {
   "cell_type": "code",
   "execution_count": 2,
   "id": "02e556be",
   "metadata": {},
   "outputs": [],
   "source": [
    "#%pip install llama-index-embeddings-cohere cohere"
   ]
  },
  {
   "cell_type": "code",
   "execution_count": 16,
   "id": "fbb7ec08",
   "metadata": {},
   "outputs": [
    {
     "name": "stderr",
     "output_type": "stream",
     "text": [
      "Generating embeddings: 100%|██████████| 103/103 [00:06<00:00, 17.14it/s]\n"
     ]
    }
   ],
   "source": [
    "# Load VectorStoreIndex by selecting the splitter(chunk_size, chunk_overlap) and embedded model directly\n",
    "import os\n",
    "from llama_index.core.node_parser import SentenceSplitter\n",
    "from llama_index.embeddings.cohere import CohereEmbedding\n",
    "from llama_index.core import VectorStoreIndex\n",
    "\n",
    "embed_model = CohereEmbedding(\n",
    "    api_key=os.environ[\"COHERE_API_KEY\"],\n",
    "    model_name=\"embed-english-v3.0\"\n",
    ")\n",
    "\n",
    "node_parser = SentenceSplitter(chunk_size=256, chunk_overlap=20)\n",
    "nodes = node_parser.get_nodes_from_documents(documents)\n",
    "index = VectorStoreIndex(nodes, embed_model=embed_model, show_progress=True)"
   ]
  },
  {
   "cell_type": "markdown",
   "id": "d0f76c5f",
   "metadata": {},
   "source": [
    "## Default Retriever"
   ]
  },
  {
   "cell_type": "code",
   "execution_count": 25,
   "id": "4c093649",
   "metadata": {},
   "outputs": [],
   "source": [
    "base_retriever = index.as_retriever(similarity_top_k=5)\n",
    "\n",
    "source_nodes = base_retriever.retrieve(\"What is the RAG?\")"
   ]
  },
  {
   "cell_type": "code",
   "execution_count": 26,
   "id": "ddd1aa3a",
   "metadata": {},
   "outputs": [
    {
     "name": "stdout",
     "output_type": "stream",
     "text": [
      "---------------------------------------------\n",
      "Score: 0.498\n",
      "RAG-Token The RAG-Token model can be seen as a standard, autoregressive seq2seq genera-\n",
      "tor with transition probability: p′\n",
      "θ(yi|x,y1:i−1) = ∑\n",
      "z∈top-k(p(·|x)) pη(zi|x)pθ(yi|x,zi,y1:i−1) To\n",
      "decode, we can plug p′\n",
      "θ(yi|x,y1:i−1) into a standard beam decoder.\n",
      "RAG-Sequence For RAG-Sequence, the likelihood p(y|x) does not break into a conventional per-\n",
      "token likelihood, hence we cannot solve it with a single beam search. Instead, we run beam search for\n",
      "each document z, scoring each hypothesis using pθ(yi|x,z,y 1:i−1). This yields a set of hypotheses\n",
      "Y, some of which may not have appeared in the beams of all documents.\n",
      "---------------------------------------------\n",
      "\n",
      "\n",
      "---------------------------------------------\n",
      "Score: 0.458\n",
      "Since RAG can be\n",
      "employed as a language model, similar concerns as for GPT-2 [50] are valid here, although arguably\n",
      "to a lesser extent, including that it might be used to generate abuse, faked or misleading content in\n",
      "the news or on social media; to impersonate others; or to automate the production of spam/phishing\n",
      "content [54]. Advanced language models may also lead to the automation of various jobs in the\n",
      "coming decades [16]. In order to mitigate these risks, AI systems could be employed to ﬁght against\n",
      "misleading content and automated spam/phishing.\n",
      "Acknowledgments\n",
      "The authors would like to thank the reviewers for their thoughtful and constructive feedback on this\n",
      "paper, as well as HuggingFace for their help in open-sourcing code to run RAG models. The authors\n",
      "would also like to thank Kyunghyun Cho and Sewon Min for productive discussions and advice. EP\n",
      "thanks supports from the NSF Graduate Research Fellowship. PL is supported by the FAIR PhD\n",
      "program.\n",
      "---------------------------------------------\n",
      "\n",
      "\n",
      "---------------------------------------------\n",
      "Score: 0.456\n",
      "In both cases we report label accuracy.\n",
      "4 Results\n",
      "4.1 Open-domain Question Answering\n",
      "Table 1 shows results for RAG along with state-of-the-art models. On all four open-domain QA\n",
      "tasks, RAG sets a new state of the art (only on the T5-comparable split for TQA). RAG combines\n",
      "the generation ﬂexibility of the “closed-book” (parametric only) approaches and the performance of\n",
      "\"open-book\" retrieval-based approaches. Unlike REALM and T5+SSM, RAG enjoys strong results\n",
      "without expensive, specialized “salient span masking” pre-training [20]. It is worth noting that RAG’s\n",
      "retriever is initialized using DPR’s retriever, which uses retrieval supervision on Natural Questions\n",
      "and TriviaQA. RAG compares favourably to the DPR QA system, which uses a BERT-based “cross-\n",
      "encoder” to re-rank documents, along with an extractive reader.\n",
      "---------------------------------------------\n",
      "\n",
      "\n",
      "---------------------------------------------\n",
      "Score: 0.448\n",
      "This allows the generator to choose content from several\n",
      "documents when producing an answer. Concretely, the top K documents are retrieved using the\n",
      "retriever, and then the generator produces a distribution for the next output token for each document,\n",
      "before marginalizing, and repeating the process with the following output token, Formally, we deﬁne:\n",
      "pRAG-Token(y|x) ≈\n",
      "N∏\n",
      "i\n",
      "∑\n",
      "z∈top-k(p(·|x))\n",
      "pη(z|x)pθ(yi|x,z,y 1:i−1)\n",
      "Finally, we note that RAG can be used for sequence classiﬁcation tasks by considering the target class\n",
      "as a target sequence of length one, in which case RAG-Sequence and RAG-Token are equivalent.\n",
      "2.2 Retriever: DPR\n",
      "The retrieval component pη(z|x) is based on DPR [26].\n",
      "---------------------------------------------\n",
      "\n",
      "\n",
      "---------------------------------------------\n",
      "Score: 0.442\n",
      "Broader Impact\n",
      "This work offers several positive societal beneﬁts over previous work: the fact that it is more\n",
      "strongly grounded in real factual knowledge (in this case Wikipedia) makes it “hallucinate” less\n",
      "with generations that are more factual, and offers more control and interpretability. RAG could be\n",
      "employed in a wide variety of scenarios with direct beneﬁt to society, for example by endowing it\n",
      "with a medical index and asking it open-domain questions on that topic, or by helping people be more\n",
      "effective at their jobs.\n",
      "With these advantages also come potential downsides: Wikipedia, or any potential external knowledge\n",
      "source, will probably never be entirely factual and completely devoid of bias.\n",
      "---------------------------------------------\n",
      "\n",
      "\n"
     ]
    }
   ],
   "source": [
    "# check source_nodes\n",
    "\n",
    "for node in source_nodes:\n",
    "    # print(node.metadata)\n",
    "    print(f\"---------------------------------------------\")\n",
    "    print(f\"Score: {node.score:.3f}\")\n",
    "    print(node.get_content())\n",
    "    print(f\"---------------------------------------------\\n\\n\")"
   ]
  },
  {
   "cell_type": "markdown",
   "id": "f842e224",
   "metadata": {},
   "source": [
    "## Query Engine"
   ]
  },
  {
   "cell_type": "code",
   "execution_count": 1,
   "id": "57431477",
   "metadata": {},
   "outputs": [],
   "source": [
    "#%pip install llama-index-llms-cohere cohere"
   ]
  },
  {
   "cell_type": "code",
   "execution_count": 21,
   "id": "68033333",
   "metadata": {},
   "outputs": [],
   "source": [
    "from llama_index.llms.cohere import Cohere\n",
    "\n",
    "llm = Cohere(\n",
    "    model=\"command-r\",  # or command-r-plus if you have access\n",
    "    temperature=0,\n",
    "    api_key=os.environ[\"COHERE_API_KEY\"],\n",
    "    max_tokens=512,\n",
    ")\n",
    "\n",
    "query_engine = index.as_query_engine(\n",
    "  streaming=True, \n",
    "  similarity_top_k=2, \n",
    "  llm=llm\n",
    ")"
   ]
  },
  {
   "cell_type": "markdown",
   "id": "fb98c29b",
   "metadata": {},
   "source": [
    "## Response generated from query"
   ]
  },
  {
   "cell_type": "code",
   "execution_count": 24,
   "id": "8890350a",
   "metadata": {},
   "outputs": [
    {
     "name": "stdout",
     "output_type": "stream",
     "text": [
      "The RAG Sequence model uses a single retrieved document to generate the complete sequence of target tokens. The retrieved document is treated as a latent variable which is marginalised to obtain the seq2seq probability, using a top-K approximation."
     ]
    }
   ],
   "source": [
    "response = query_engine.query(\"What is the RAG Sequence model?\")\n",
    "response.print_response_stream()"
   ]
  }
 ],
 "metadata": {
  "kernelspec": {
   "display_name": ".venv",
   "language": "python",
   "name": "python3"
  },
  "language_info": {
   "codemirror_mode": {
    "name": "ipython",
    "version": 3
   },
   "file_extension": ".py",
   "mimetype": "text/x-python",
   "name": "python",
   "nbconvert_exporter": "python",
   "pygments_lexer": "ipython3",
   "version": "3.12.5"
  }
 },
 "nbformat": 4,
 "nbformat_minor": 5
}
